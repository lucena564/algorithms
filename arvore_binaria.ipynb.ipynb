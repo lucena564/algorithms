{
  "cells": [
    {
      "cell_type": "markdown",
      "metadata": {
        "id": "1CDy5e8_Pjiy"
      },
      "source": [
        "# Árvores binárias de busca"
      ]
    },
    {
      "cell_type": "code",
      "execution_count": 1,
      "metadata": {
        "id": "nnz0ufrapTP2"
      },
      "outputs": [],
      "source": [
        "class No:\n",
        "  def __init__(self, valor):\n",
        "    self.valor = valor\n",
        "    self.esquerda = None\n",
        "    self.direita = None\n",
        "  \n",
        "  def mostra_no(self):\n",
        "    print(self.valor)"
      ]
    },
    {
      "cell_type": "code",
      "execution_count": 2,
      "metadata": {
        "id": "1L2lCXxXplvw"
      },
      "outputs": [],
      "source": [
        "class ArvoreBinariaBusca:\n",
        "    def __init__(self):\n",
        "        self.raiz = None\n",
        "        self.ligacoes = []\n",
        "\n",
        "    def inserir(self, valor):\n",
        "        novo = No(valor)\n",
        "        if self.raiz is None:\n",
        "            self.raiz = novo\n",
        "        else:\n",
        "            atual = self.raiz\n",
        "            while True:\n",
        "                pai = atual\n",
        "                if valor < atual.valor:\n",
        "                    atual = atual.esquerda\n",
        "                    if atual is None:\n",
        "                        pai.esquerda = novo\n",
        "                        return\n",
        "                else:\n",
        "                    atual = atual.direita\n",
        "                    if atual is None:\n",
        "                        pai.direita = novo\n",
        "                        return\n",
        "\n",
        "    def pesquisar(self, valor):\n",
        "        atual = self.raiz\n",
        "        while atual.valor != valor:\n",
        "            if valor < atual.valor:\n",
        "                atual = atual.esquerda\n",
        "            else:\n",
        "                atual = atual.direita\n",
        "            if atual is None:\n",
        "                return None\n",
        "        return atual\n",
        "\n",
        "    def pre_ordem(self, no):\n",
        "        if no is not None:\n",
        "            print(no.valor)\n",
        "            self.pre_ordem(no.esquerda)\n",
        "            self.pre_ordem(no.direita)\n",
        "\n",
        "    def em_ordem(self, no):\n",
        "        if no is not None:\n",
        "            self.em_ordem(no.esquerda)\n",
        "            print(no.valor)\n",
        "            self.em_ordem(no.direita)\n",
        "\n",
        "    def pos_ordem(self, no):\n",
        "        if no is not None:\n",
        "            self.pos_ordem(no.esquerda)\n",
        "            self.pos_ordem(no.direita)\n",
        "            print(no.valor)\n",
        "\n",
        "    def excluir(self, valor):\n",
        "        if self.raiz is None:\n",
        "            print(\"A árvore está vazia\")\n",
        "            return\n",
        "\n",
        "        atual = self.raiz\n",
        "        pai = self.raiz\n",
        "        e_esquerda = True\n",
        "        while atual.valor != valor:\n",
        "            pai = atual\n",
        "            if valor < atual.valor:\n",
        "                e_esquerda = True\n",
        "                atual = atual.esquerda\n",
        "            else:\n",
        "                e_esquerda = False\n",
        "                atual = atual.direita\n",
        "            if atual is None:\n",
        "                return False\n",
        "\n",
        "        if atual.esquerda is None and atual.direita is None:\n",
        "            if atual == self.raiz:\n",
        "                self.raiz = None\n",
        "            elif e_esquerda:\n",
        "                pai.esquerda = None\n",
        "            else:\n",
        "                pai.direita = None\n",
        "        elif atual.direita is None:\n",
        "            if atual == self.raiz:\n",
        "                self.raiz = atual.esquerda\n",
        "            elif e_esquerda:\n",
        "                pai.esquerda = atual.esquerda\n",
        "            else:\n",
        "                pai.direita = atual.esquerda\n",
        "        elif atual.esquerda is None:\n",
        "            if atual == self.raiz:\n",
        "                self.raiz = atual.direita\n",
        "            elif e_esquerda:\n",
        "                pai.esquerda = atual.direita\n",
        "            else:\n",
        "                pai.direita = atual.direita\n",
        "        else:\n",
        "            sucessor, pai_sucessor = self.get_sucessor(atual)\n",
        "\n",
        "            if pai_sucessor != atual:\n",
        "                pai_sucessor.esquerda = sucessor.direita\n",
        "                sucessor.direita = atual.direita\n",
        "\n",
        "            if atual == self.raiz:\n",
        "                self.raiz = sucessor\n",
        "            elif e_esquerda:\n",
        "                pai.esquerda = sucessor\n",
        "            else:\n",
        "                pai.direita = sucessor\n",
        "\n",
        "            sucessor.esquerda = atual.esquerda\n",
        "\n",
        "        return True\n",
        "    \n",
        "    def get_sucessor(self, no):\n",
        "        pai_sucessor = no\n",
        "        sucessor = no\n",
        "        atual = no.direita\n",
        "        while atual is not None:\n",
        "            pai_sucessor = sucessor\n",
        "            sucessor = atual\n",
        "            atual = atual.esquerda\n",
        "        if sucessor != no.direita:\n",
        "            pai_sucessor.esquerda = sucessor.direita\n",
        "            sucessor.direita = no.direita\n",
        "        return sucessor, pai_sucessor\n"
      ]
    },
    {
      "cell_type": "markdown",
      "metadata": {
        "id": "GfWOxB_KvRqx"
      },
      "source": [
        "### Inserção e visualização"
      ]
    },
    {
      "cell_type": "code",
      "execution_count": 3,
      "metadata": {
        "id": "REc99Aq_vUAw"
      },
      "outputs": [],
      "source": [
        "arvore = ArvoreBinariaBusca()\n",
        "arvore.inserir(53)\n",
        "arvore.inserir(30)\n",
        "arvore.inserir(14)\n",
        "arvore.inserir(39)\n",
        "arvore.inserir(9)\n",
        "arvore.inserir(23)\n",
        "arvore.inserir(34)\n",
        "arvore.inserir(49)\n",
        "arvore.inserir(72)\n",
        "arvore.inserir(61)\n",
        "arvore.inserir(84)\n",
        "arvore.inserir(79)"
      ]
    },
    {
      "cell_type": "code",
      "execution_count": 4,
      "metadata": {
        "colab": {
          "base_uri": "https://localhost:8080/",
          "height": 55
        },
        "id": "ruv5vxSEvmq8",
        "outputId": "06738adc-e604-4667-ae9d-f1ab85a38652"
      },
      "outputs": [
        {
          "data": {
            "text/plain": [
              "30"
            ]
          },
          "execution_count": 4,
          "metadata": {},
          "output_type": "execute_result"
        }
      ],
      "source": [
        "arvore.raiz.esquerda.valor"
      ]
    },
    {
      "cell_type": "code",
      "execution_count": 5,
      "metadata": {
        "colab": {
          "base_uri": "https://localhost:8080/",
          "height": 55
        },
        "id": "GUwaUppbvtF9",
        "outputId": "9828a57b-c73a-46cd-80bd-e90efd9790e0"
      },
      "outputs": [
        {
          "data": {
            "text/plain": [
              "72"
            ]
          },
          "execution_count": 5,
          "metadata": {},
          "output_type": "execute_result"
        }
      ],
      "source": [
        "arvore.raiz.direita.valor"
      ]
    },
    {
      "cell_type": "code",
      "execution_count": 6,
      "metadata": {
        "id": "QL4I6yor1F5i"
      },
      "outputs": [],
      "source": [
        "arvore.inserir(89)"
      ]
    },
    {
      "cell_type": "markdown",
      "metadata": {
        "id": "WljSCEnx3KxU"
      },
      "source": [
        "### Pesquisar"
      ]
    },
    {
      "cell_type": "code",
      "execution_count": 7,
      "metadata": {
        "colab": {
          "base_uri": "https://localhost:8080/",
          "height": 55
        },
        "id": "DvSI9hdc3MFW",
        "outputId": "0baccd9c-947a-475a-8de2-fbafd44e8281"
      },
      "outputs": [
        {
          "data": {
            "text/plain": [
              "<__main__.No at 0x198575d89d0>"
            ]
          },
          "execution_count": 7,
          "metadata": {},
          "output_type": "execute_result"
        }
      ],
      "source": [
        "arvore.pesquisar(39)"
      ]
    },
    {
      "cell_type": "code",
      "execution_count": 8,
      "metadata": {
        "colab": {
          "base_uri": "https://localhost:8080/",
          "height": 55
        },
        "id": "9xZo1uKx3TQf",
        "outputId": "29a171c7-df47-4fd0-811b-0f565735cc05"
      },
      "outputs": [
        {
          "data": {
            "text/plain": [
              "<__main__.No at 0x198575d9f10>"
            ]
          },
          "execution_count": 8,
          "metadata": {},
          "output_type": "execute_result"
        }
      ],
      "source": [
        "arvore.pesquisar(84)"
      ]
    },
    {
      "cell_type": "code",
      "execution_count": 9,
      "metadata": {
        "colab": {
          "base_uri": "https://localhost:8080/",
          "height": 55
        },
        "id": "l4wZVzLv3WEg",
        "outputId": "f1fd7d37-f2ed-4503-82a9-847fb7707121"
      },
      "outputs": [
        {
          "name": "stdout",
          "output_type": "stream",
          "text": [
            "Elemento não localizado\n"
          ]
        }
      ],
      "source": [
        "if arvore.pesquisar(100) == None:\n",
        "  print('Elemento não localizado')\n",
        "else:\n",
        "  print('Elemento localizado')"
      ]
    },
    {
      "cell_type": "markdown",
      "metadata": {
        "id": "OW08RX1l0IKM"
      },
      "source": [
        "### Travessia"
      ]
    },
    {
      "cell_type": "code",
      "execution_count": 10,
      "metadata": {
        "colab": {
          "base_uri": "https://localhost:8080/",
          "height": 248
        },
        "id": "wgqID80_0KMy",
        "outputId": "37d9d7a9-c26d-42fc-e688-7535f2a286bd"
      },
      "outputs": [
        {
          "name": "stdout",
          "output_type": "stream",
          "text": [
            "53\n",
            "30\n",
            "14\n",
            "9\n",
            "23\n",
            "39\n",
            "34\n",
            "49\n",
            "72\n",
            "61\n",
            "84\n",
            "79\n",
            "89\n"
          ]
        }
      ],
      "source": [
        "arvore.pre_ordem(arvore.raiz)"
      ]
    },
    {
      "cell_type": "code",
      "execution_count": 11,
      "metadata": {
        "colab": {
          "base_uri": "https://localhost:8080/",
          "height": 248
        },
        "id": "BdzLtNoe5Vb6",
        "outputId": "fab55e6c-59da-4d7b-9732-40bcb5f3b846"
      },
      "outputs": [
        {
          "name": "stdout",
          "output_type": "stream",
          "text": [
            "9\n",
            "14\n",
            "23\n",
            "30\n",
            "34\n",
            "39\n",
            "49\n",
            "53\n",
            "61\n",
            "72\n",
            "79\n",
            "84\n",
            "89\n"
          ]
        }
      ],
      "source": [
        "arvore.em_ordem(arvore.raiz)"
      ]
    },
    {
      "cell_type": "code",
      "execution_count": 12,
      "metadata": {
        "colab": {
          "base_uri": "https://localhost:8080/",
          "height": 248
        },
        "id": "47HGj0-N7YPj",
        "outputId": "2e659b06-e9c4-46ab-efb2-d0a21e73ca93"
      },
      "outputs": [
        {
          "name": "stdout",
          "output_type": "stream",
          "text": [
            "9\n",
            "23\n",
            "14\n",
            "34\n",
            "49\n",
            "39\n",
            "30\n",
            "61\n",
            "79\n",
            "89\n",
            "84\n",
            "72\n",
            "53\n"
          ]
        }
      ],
      "source": [
        "arvore.pos_ordem(arvore.raiz)"
      ]
    },
    {
      "cell_type": "markdown",
      "metadata": {
        "id": "XiRU_kCLpcqP"
      },
      "source": [
        "### Excluir"
      ]
    },
    {
      "cell_type": "code",
      "execution_count": 13,
      "metadata": {
        "id": "2BW02hOApeX2"
      },
      "outputs": [
        {
          "name": "stdout",
          "output_type": "stream",
          "text": [
            "9\n",
            "23\n",
            "14\n",
            "49\n",
            "39\n",
            "30\n",
            "61\n",
            "79\n",
            "89\n",
            "72\n",
            "53\n"
          ]
        }
      ],
      "source": [
        "arvore.excluir(84)\n",
        "arvore.excluir(34)\n",
        "arvore.pos_ordem(arvore.raiz)"
      ]
    },
    {
      "cell_type": "markdown",
      "metadata": {
        "id": "sX6bXxrJIW2p"
      },
      "source": [
        "### Sucessor"
      ]
    },
    {
      "cell_type": "code",
      "execution_count": 14,
      "metadata": {
        "colab": {
          "base_uri": "https://localhost:8080/",
          "height": 55
        },
        "id": "_QTuVkKUIYga",
        "outputId": "f3a1071e-2dc0-41d4-8c4c-8c5e22a0287c"
      },
      "outputs": [
        {
          "data": {
            "text/plain": [
              "(<__main__.No at 0x198575db790>, <__main__.No at 0x198575db150>)"
            ]
          },
          "execution_count": 14,
          "metadata": {},
          "output_type": "execute_result"
        }
      ],
      "source": [
        "arvore.get_sucessor(arvore.raiz) # Sucessor, Pai Sucessor"
      ]
    }
  ],
  "metadata": {
    "colab": {
      "collapsed_sections": [
        "WljSCEnx3KxU",
        "OW08RX1l0IKM"
      ],
      "provenance": []
    },
    "kernelspec": {
      "display_name": "Python 3",
      "name": "python3"
    },
    "language_info": {
      "codemirror_mode": {
        "name": "ipython",
        "version": 3
      },
      "file_extension": ".py",
      "mimetype": "text/x-python",
      "name": "python",
      "nbconvert_exporter": "python",
      "pygments_lexer": "ipython3",
      "version": "3.11.3"
    }
  },
  "nbformat": 4,
  "nbformat_minor": 0
}
