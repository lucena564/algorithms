{
 "cells": [
  {
   "cell_type": "code",
   "execution_count": 1,
   "metadata": {},
   "outputs": [],
   "source": [
    "class No:\n",
    "  def __init__(self, valor):\n",
    "    self.valor = valor\n",
    "    self.proximo = None\n",
    "  \n",
    "  def mostra_no(self):\n",
    "    print(self.valor)\n",
    "\n",
    "class Pilha:\n",
    "  def __init__(self):\n",
    "    self.head = None\n",
    "\n",
    "  def push(self, valor):\n",
    "    novo = No(valor) # Queremos inserir um novo valor na minha pilha, \n",
    "                     # porém esse valor tem que ser um Nó, portanto temos\n",
    "                     # que instanciar uma nova classe Nó com o valor que queremos inserir.\n",
    "\n",
    "    # Se a pilha estiver vazia\n",
    "    if self.head == None:\n",
    "      # print('Não tinha nenhum item, head estava apontando para: ' + str(self.head))\n",
    "      self.head = novo \n",
    "\n",
    "    elif (novo.valor == self.head.valor):\n",
    "      valor_removido = self.head.valor\n",
    "      self.head = self.head.proximo\n",
    "      return valor_removido\n",
    "\n",
    "    else:\n",
    "      novo.proximo = self.head # Nó a ser empilhado, precisa apontar para o mesmo local que o self.head está apontando.\n",
    "\n",
    "      self.head = novo\n",
    "\n",
    "  def pop(self):\n",
    "    if self.head is None:\n",
    "      return None\n",
    "    \n",
    "    else:\n",
    "      valor_removido = self.head.valor\n",
    "      self.head = self.head.proximo\n",
    "      return valor_removido\n",
    "    \n",
    "  def show(self):\n",
    "    self.print = self.head\n",
    "\n",
    "    while (self.print != None):\n",
    "      print(self.print.valor)\n",
    "      self.print = self.print.proximo\n"
   ]
  },
  {
   "cell_type": "code",
   "execution_count": null,
   "metadata": {},
   "outputs": [],
   "source": [
    "# pilha = Pilha()\n",
    "# pilha.push(2)\n",
    "# pilha.push(3)\n",
    "# pilha.push(6)\n",
    "# pilha.push(8)\n",
    "# pilha.push(5)\n",
    "\n",
    "# pilha.show()\n",
    "# print('---------------------- Push inicial, fim -----------------------\\n')\n",
    "\n",
    "# print('Colocando uma peça igual em cima (neste caso o push(5)): ')\n",
    "# print('obs: head é igual ao valor que queriamos inserir, portanto deveriamos remover o head da pilha e não inserir o 5.\\n')\n",
    "# pilha.push(5)\n",
    "\n",
    "# pilha.show()"
   ]
  },
  {
   "cell_type": "code",
   "execution_count": 3,
   "metadata": {},
   "outputs": [
    {
     "name": "stdout",
     "output_type": "stream",
     "text": [
      "2\n"
     ]
    }
   ],
   "source": [
    "pilha = Pilha()\n",
    "\n",
    "num_de_casos = input()\n",
    "\n",
    "for caso in range(int(num_de_casos)):\n",
    "    while(True):\n",
    "        item = input()\n",
    "\n",
    "        if item == 'END':\n",
    "            break\n",
    "\n",
    "        elif item == '':\n",
    "            pass\n",
    "    \n",
    "        else:\n",
    "            pilha.push(int(item))\n",
    "        \n",
    "pilha.show()\n"
   ]
  }
 ],
 "metadata": {
  "kernelspec": {
   "display_name": "algoritmos",
   "language": "python",
   "name": "python3"
  },
  "language_info": {
   "codemirror_mode": {
    "name": "ipython",
    "version": 3
   },
   "file_extension": ".py",
   "mimetype": "text/x-python",
   "name": "python",
   "nbconvert_exporter": "python",
   "pygments_lexer": "ipython3",
   "version": "3.10.4"
  },
  "orig_nbformat": 4
 },
 "nbformat": 4,
 "nbformat_minor": 2
}
