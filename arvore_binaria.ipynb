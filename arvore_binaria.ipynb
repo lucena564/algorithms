{
 "cells": [
  {
   "attachments": {},
   "cell_type": "markdown",
   "metadata": {},
   "source": [
    "## Árvore Binária de Busca"
   ]
  },
  {
   "cell_type": "code",
   "execution_count": 31,
   "metadata": {},
   "outputs": [],
   "source": [
    "# Import of auxiliar files for show image of us tree\n",
    "from aux_plot_tree import graphviz, image_tree, delete_file\n",
    "import matplotlib.pyplot as plt\n",
    "import matplotlib.image as mpimg\n"
   ]
  },
  {
   "cell_type": "code",
   "execution_count": 32,
   "metadata": {},
   "outputs": [],
   "source": [
    "class No:\n",
    "  def __init__(self, valor):\n",
    "    self.valor = valor\n",
    "    self.esquerda = None\n",
    "    self.direita = None\n",
    "  \n",
    "  def mostra_no(self):\n",
    "    print(self.valor)"
   ]
  },
  {
   "cell_type": "code",
   "execution_count": 33,
   "metadata": {},
   "outputs": [],
   "source": [
    "class ArvoreBinariaBusca:\n",
    "  def __init__(self):\n",
    "    self.raiz = None\n",
    "    self.ligacoes = []\n",
    "    self.vec_pre_ordem = []\n",
    "    self.vec_em_ordem = []\n",
    "    self.vec_pos_ordem = []\n",
    "\n",
    "  def inserir(self, valor):\n",
    "    novo = No(valor) # Queremos inserir um novo valor na minha árvore, \n",
    "                     # porém esse valor tem que ser um Nó, portanto temos\n",
    "                     # que instanciar uma nova classe Nó com o valor que queremos inserir.\n",
    "\n",
    "    # Se a árvore estiver vazia\n",
    "    if self.raiz == None:\n",
    "      self.raiz = novo # Ou seja, \"self.raiz\" está apontando para o primeiro nó que foi criado, quando a arvore estava vazia.\n",
    "                       # A partir de agora não irá mais acontecer de entrarmos nessa condição, porque a raíz já está definida. \n",
    "                       # Sempre que utilizarmos \"self.raiz\" estamos na realidade pegando o Nó raiz, que tem algo na esquerda e direita tb.\n",
    "                       # Conforme foi definido na class lá de cima.\n",
    "\n",
    "    else:\n",
    "      atual = self.raiz # Então \"atual\" está pegando o Nó do topo, que está guardado dentro de \"self.raiz\"\n",
    "      \n",
    "      # Laço para percorrer toda a árvore e acharmos o local correto de realizarmos essa inserção.\n",
    "      while (True):\n",
    "        pai = atual # Que começa no topo da nossa árvore, lá em raiz.\n",
    "        \n",
    "        # Inserção do nó pela Esquerda\n",
    "        \n",
    "        # Se o valor que queremos inserir na árvore for menor que o valor que está guardado dentro do Nodo atual que estamos verificando\n",
    "        # então a inserção será veito na esquerda do nó.\n",
    "        if valor < atual.valor:\n",
    "          atual = atual.esquerda \n",
    "          if atual == None:  # Achamos o local de realizarmos a inserção\n",
    "            pai.esquerda = novo \n",
    "            self.ligacoes.append(str(pai.valor) + '->' + str(novo.valor))\n",
    "            return\n",
    "          \n",
    "        # Inserção do nó pela Direita\n",
    "        else:\n",
    "          atual = atual.direita\n",
    "          \n",
    "          if atual == None:\n",
    "            pai.direita = novo\n",
    "            self.ligacoes.append(str(pai.valor) + '->' + str(novo.valor))\n",
    "            return\n",
    "\n",
    "  # Raiz, Esquerda, Direita      \n",
    "  def pre_ordem(self, no):\n",
    "    if no != None:\n",
    "      print(no.valor)\n",
    "      self.vec_pre_ordem.append(no.valor)\n",
    "      self.pre_ordem(no.esquerda)\n",
    "      self.pre_ordem(no.direita)\n",
    "\n",
    "  # Esquerda, Raiz, Direita\n",
    "  def em_ordem(self, no):\n",
    "    if no != None:\n",
    "      self.em_ordem(no.esquerda)\n",
    "      print(no.valor)\n",
    "      self.vec_em_ordem.append(no.valor)\n",
    "      self.em_ordem(no.direita)\n",
    " \n",
    "  # Esquerda, Direita, Raiz\n",
    "  def pos_ordem(self, no):\n",
    "    if no != None:\n",
    "      self.pos_ordem(no.esquerda)\n",
    "      self.pos_ordem(no.direita)\n",
    "      print(no.valor)\n",
    "      self.vec_pos_ordem.append(no.valor)\n",
    "\n",
    "\n",
    "  def mostrar_travessia(self, vetor):\n",
    "    \"\"\"\n",
    "    Retorna uma string em formato de vetor representando a ordem da travessia escolhida.\n",
    "\n",
    "    Argumentos:\n",
    "    vetor (lista de inteiros): Lista de inteiros.\n",
    "      - Este vetor é a saída dos métodos de percurso: pre_ordem(), em_ordem(), pos_ordem()\n",
    "\n",
    "    Retorno:\n",
    "    str: String com a ordem representativa do percuso feito no modelo de travessia passado como parâmetro.\n",
    "    \"\"\"\n",
    "\n",
    "    if vetor == self.vec_pre_ordem:\n",
    "      self.travessia = self.vec_pre_ordem\n",
    "    elif vetor == self.vec_em_ordem:\n",
    "      self.travessia = self.vec_em_ordem\n",
    "    elif vetor == self.vec_pos_ordem:\n",
    "      self.travessia = self.vec_pos_ordem\n",
    "    else:\n",
    "      print('Vetor vazio ou não cumpriu os requisitos da função, portanto será printado a travessia Em Ordem:\\n')\n",
    "      self.em_ordem(self.raiz)\n",
    "      self.travessia = self.vec_em_ordem\n",
    "\n",
    "    self.saida = '['\n",
    "    for item in self.travessia:\n",
    "      self.saida += str(item) + str(', ')\n",
    "    self.saida = self.saida[:-1]\n",
    "    self.saida = self.saida[:-1]\n",
    "    self.saida += ']'\n",
    "    print(self.saida)\n",
    "\n",
    " \n",
    "  def show_tree_online(self):\n",
    "    for item in self.ligacoes:\n",
    "      print(item)\n",
    "\n",
    "  def show_tree(self):\n",
    "    elementos = self.ligacoes\n",
    "\n",
    "    # Chame a função passando a lista de elementos\n",
    "    conteudo = graphviz(elementos)\n",
    "\n",
    "    # Crie e salve o arquivo no formato: .dot\n",
    "    with open(\"aux_show_tree.dot\", \"w\") as arquivo_dot:\n",
    "      arquivo_dot.write(conteudo)\n",
    "\n",
    "    image_tree(\"aux_show_tree.dot\", \"show_tree.png\")\n",
    "\n",
    "    delete_file(\"aux_show_tree.dot\")\n",
    "\n",
    "    imagem = mpimg.imread(\"show_tree.png\")\n",
    "    plt.imshow(imagem)\n",
    "    plt.axis('off')\n",
    "    plt.show()\n",
    "\n",
    "    delete_file(\"show_tree.png\")"
   ]
  },
  {
   "cell_type": "code",
   "execution_count": 34,
   "metadata": {},
   "outputs": [],
   "source": [
    "arvore = ArvoreBinariaBusca()\n",
    "arvore.inserir(53)\n",
    "arvore.inserir(30)\n",
    "arvore.inserir(14)\n",
    "arvore.inserir(39)\n",
    "arvore.inserir(9)\n",
    "arvore.inserir(23)\n",
    "arvore.inserir(34)\n",
    "arvore.inserir(49)\n",
    "arvore.inserir(72)\n",
    "arvore.inserir(61)\n",
    "arvore.inserir(84)\n",
    "arvore.inserir(79)"
   ]
  },
  {
   "attachments": {},
   "cell_type": "markdown",
   "metadata": {},
   "source": [
    "# Método de travessia Pré Ordem\n",
    "\n",
    "- Primeiro visita a raiz e depois recursivamente faz uma travessia na subárvore esquerda, seguido de um travessia recursiva na subárvore direita.\n",
    "- Raiz -> Esquerda -> Direita"
   ]
  },
  {
   "cell_type": "code",
   "execution_count": 35,
   "metadata": {},
   "outputs": [
    {
     "name": "stdout",
     "output_type": "stream",
     "text": [
      "53\n",
      "30\n",
      "14\n",
      "9\n",
      "23\n",
      "39\n",
      "34\n",
      "49\n",
      "72\n",
      "61\n",
      "84\n",
      "79\n"
     ]
    }
   ],
   "source": [
    "arvore.pre_ordem(arvore.raiz)"
   ]
  },
  {
   "attachments": {},
   "cell_type": "markdown",
   "metadata": {},
   "source": [
    "# Método de travessia Em Ordem \n",
    "\n",
    "- Recursivamente faz a travessia na subárvore esquerda, visita a raiz e faz uma travessia recursiva na subárvore direita. </br>\n",
    "- Esquerda -> Raiz -> Direita"
   ]
  },
  {
   "cell_type": "code",
   "execution_count": 36,
   "metadata": {},
   "outputs": [
    {
     "name": "stdout",
     "output_type": "stream",
     "text": [
      "9\n",
      "14\n",
      "23\n",
      "30\n",
      "34\n",
      "39\n",
      "49\n",
      "53\n",
      "61\n",
      "72\n",
      "79\n",
      "84\n"
     ]
    }
   ],
   "source": [
    "arvore.em_ordem(arvore.raiz)"
   ]
  },
  {
   "attachments": {},
   "cell_type": "markdown",
   "metadata": {},
   "source": [
    "# Método de travessia Pos Ordem\n",
    "\n",
    "- Recursivamente faz a travessia na subárvore esquerda, faz uma travessia recursiva na subárvore direita e por fim visita a raiz.\n",
    "- Esquerda -> Direita -> Raiz"
   ]
  },
  {
   "cell_type": "code",
   "execution_count": 37,
   "metadata": {},
   "outputs": [
    {
     "name": "stdout",
     "output_type": "stream",
     "text": [
      "9\n",
      "23\n",
      "14\n",
      "34\n",
      "49\n",
      "39\n",
      "30\n",
      "61\n",
      "79\n",
      "84\n",
      "72\n",
      "53\n"
     ]
    }
   ],
   "source": [
    "arvore.pos_ordem(arvore.raiz)"
   ]
  },
  {
   "attachments": {},
   "cell_type": "markdown",
   "metadata": {},
   "source": [
    "# Função Mostrar Travessia\n",
    "\n",
    "- Para isto precisa ser passado algum vetor de saída dos métodos de travessia:  <br>  \n",
    "    self.vec_pre_ordem = [ ]<br>\n",
    "    self.vec_em_ordem = [ ]<br>\n",
    "    self.vec_pos_ordem = [ ]"
   ]
  },
  {
   "cell_type": "code",
   "execution_count": 41,
   "metadata": {},
   "outputs": [
    {
     "name": "stdout",
     "output_type": "stream",
     "text": [
      "Travessia pré ordem: \n",
      "[53, 30, 14, 9, 23, 39, 34, 49, 72, 61, 84, 79]\n",
      "\n",
      "Travessia em ordem:\n",
      "[9, 14, 23, 30, 34, 39, 49, 53, 61, 72, 79, 84]\n",
      "\n",
      "Travessia pós ordem:\n",
      "[9, 23, 14, 34, 49, 39, 30, 61, 79, 84, 72, 53]\n"
     ]
    }
   ],
   "source": [
    "print(\"Travessia pré ordem: \")\n",
    "arvore.mostrar_travessia(arvore.vec_pre_ordem)\n",
    "\n",
    "print(\"\\nTravessia em ordem:\")\n",
    "arvore.mostrar_travessia(arvore.vec_em_ordem)\n",
    "\n",
    "print(\"\\nTravessia pós ordem:\")\n",
    "arvore.mostrar_travessia(arvore.vec_pos_ordem)"
   ]
  },
  {
   "attachments": {},
   "cell_type": "markdown",
   "metadata": {},
   "source": [
    "# Configuração para a função show_tree():"
   ]
  },
  {
   "attachments": {},
   "cell_type": "markdown",
   "metadata": {},
   "source": [
    "### Executando o comando no terminal\n",
    "\n",
    "Para gerar uma imagem PNG da Árvore Binária a partir de um arquivo DOT, execute o seguinte comando no terminal:\n",
    "\n",
    "```bash\n",
    "dot -Tpng nome_do_arquivo.dot -o nome_da_imagem_gerada.png\n",
    "\n",
    "http://webgraphviz.com/\n"
   ]
  },
  {
   "attachments": {},
   "cell_type": "markdown",
   "metadata": {},
   "source": [
    "### Estrutura básica de um arquivo .dot\n",
    "\n",
    "A estrutura básica de um arquivo .dot é a seguinte:\n",
    "\n",
    "```dot\n",
    "digraph G {\n",
    "    // AQUI ENTRA A SAÍDA DA FUNÇÃO SHOW_TREE()\n",
    "}\n"
   ]
  },
  {
   "cell_type": "code",
   "execution_count": 39,
   "metadata": {},
   "outputs": [
    {
     "data": {
      "image/png": "[encoded data removed]",
      "text/plain": [
       "<Figure size 640x480 with 1 Axes>"
      ]
     },
     "metadata": {},
     "output_type": "display_data"
    }
   ],
   "source": [
    "arvore.show_tree()"
   ]
  }
 ],
 "metadata": {
  "kernelspec": {
   "display_name": "algoritmos",
   "language": "python",
   "name": "python3"
  },
  "language_info": {
   "codemirror_mode": {
    "name": "ipython",
    "version": 3
   },
   "file_extension": ".py",
   "mimetype": "text/x-python",
   "name": "python",
   "nbconvert_exporter": "python",
   "pygments_lexer": "ipython3",
   "version": "3.11.3"
  },
  "orig_nbformat": 4,
  "vscode": {
   "interpreter": {
    "hash": "e7436615460e7027d3e20e878ee771f6a9b981d34ae9c28568e445f5befa29f9"
   }
  }
 },
 "nbformat": 4,
 "nbformat_minor": 2
}
